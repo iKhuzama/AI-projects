{
  "cells": [
    {
      "cell_type": "markdown",
      "metadata": {
        "id": "4TflBwn4kNdJ"
      },
      "source": [
        "## Objective\n",
        "* The objective of this exercise is to explore and visualize the Traffic Index dataset to gain insights and understand the patterns in the data."
      ]
    },
    {
      "cell_type": "markdown",
      "metadata": {
        "id": "8vb3xNKsoP0r"
      },
      "source": [
        "##Dataset Description"
      ]
    },
    {
      "cell_type": "markdown",
      "metadata": {
        "id": "FQjSVR4h8fu8"
      },
      "source": [
        "| Column Name | Description | Data Type |\n",
        "| :---------------- | :------: | ----: |\n",
        "|   City  |   Name of the city\t   | Object |\n",
        "| Datetime           |   Date and time of the data entry\t   | Object |\n",
        "|  TrafficIndexLive    |  Real-time traffic index\t   | Int |\n",
        "|  Jamscount |  Number of traffic jams\t   | Int |\n",
        "|   JamsDelay  |   Total delay caused by traffic jams (in minutes)\t   | Float |\n",
        "|JamsLength           |   Total length of traffic jams (in kilometers)\t   | Float |\n",
        "|  TrafficIndexWeekAgo    |  Traffic index one week ago\t   | Int |\n",
        "|  TravelTimeHistoric |  Historical average travel time (in minutes)\t   | Float |\n",
        "|   TravelTimeLive  |   Real-time travel time (in minutes)\t   | Float |\n"
      ]
    },
    {
      "cell_type": "markdown",
      "metadata": {
        "id": "WBNuyQVhlpj5"
      },
      "source": [
        "# Tasks"
      ]
    },
    {
      "cell_type": "markdown",
      "metadata": {
        "id": "hkp41fRQoUSj"
      },
      "source": [
        "## 1. Exploratory Data Analysis (EDA)"
      ]
    },
    {
      "cell_type": "markdown",
      "metadata": {
        "id": "RQpjcBLfoZgr"
      },
      "source": [
        "### Perform summary statistics on the dataset."
      ]
    },
    {
      "cell_type": "code",
      "execution_count": 6,
      "metadata": {
        "id": "9CIk-QkApKLp"
      },
      "outputs": [
        {
          "name": "stdout",
          "output_type": "stream",
          "text": [
            "Requirement already satisfied: pandas in c:\\users\\khuza\\appdata\\local\\programs\\python\\python311\\lib\\site-packages (2.2.2)\n",
            "Requirement already satisfied: numpy>=1.23.2 in c:\\users\\khuza\\appdata\\local\\programs\\python\\python311\\lib\\site-packages (from pandas) (1.26.4)\n",
            "Requirement already satisfied: python-dateutil>=2.8.2 in c:\\users\\khuza\\appdata\\roaming\\python\\python311\\site-packages (from pandas) (2.9.0.post0)\n",
            "Requirement already satisfied: pytz>=2020.1 in c:\\users\\khuza\\appdata\\local\\programs\\python\\python311\\lib\\site-packages (from pandas) (2024.1)\n",
            "Requirement already satisfied: tzdata>=2022.7 in c:\\users\\khuza\\appdata\\local\\programs\\python\\python311\\lib\\site-packages (from pandas) (2024.1)\n",
            "Requirement already satisfied: six>=1.5 in c:\\users\\khuza\\appdata\\roaming\\python\\python311\\site-packages (from python-dateutil>=2.8.2->pandas) (1.16.0)\n",
            "Note: you may need to restart the kernel to use updated packages.\n"
          ]
        },
        {
          "name": "stderr",
          "output_type": "stream",
          "text": [
            "\n",
            "[notice] A new release of pip is available: 24.0 -> 24.1.2\n",
            "[notice] To update, run: python.exe -m pip install --upgrade pip\n"
          ]
        }
      ],
      "source": [
        "pip install pandas"
      ]
    },
    {
      "cell_type": "code",
      "execution_count": 7,
      "metadata": {},
      "outputs": [],
      "source": [
        "import pandas as pd\n",
        "df=pd.read_csv('Task (2) Dataset.csv')"
      ]
    },
    {
      "cell_type": "code",
      "execution_count": 8,
      "metadata": {},
      "outputs": [
        {
          "name": "stdout",
          "output_type": "stream",
          "text": [
            "<class 'pandas.core.frame.DataFrame'>\n",
            "RangeIndex: 66639 entries, 0 to 66638\n",
            "Data columns (total 9 columns):\n",
            " #   Column               Non-Null Count  Dtype  \n",
            "---  ------               --------------  -----  \n",
            " 0   City                 66639 non-null  object \n",
            " 1   Datetime             66639 non-null  object \n",
            " 2   TrafficIndexLive     66639 non-null  int64  \n",
            " 3   JamsCount            66639 non-null  int64  \n",
            " 4   JamsDelay            66639 non-null  float64\n",
            " 5   JamsLength           66639 non-null  float64\n",
            " 6   TrafficIndexWeekAgo  66639 non-null  int64  \n",
            " 7   TravelTimeHistoric   62772 non-null  float64\n",
            " 8   TravelTimeLive       62772 non-null  float64\n",
            "dtypes: float64(4), int64(3), object(2)\n",
            "memory usage: 4.6+ MB\n"
          ]
        }
      ],
      "source": [
        "df.info()"
      ]
    },
    {
      "cell_type": "markdown",
      "metadata": {
        "id": "OjwISK8nocUT"
      },
      "source": [
        "### Identify and analyze patterns in the data."
      ]
    },
    {
      "cell_type": "code",
      "execution_count": 9,
      "metadata": {
        "id": "gw8jkuYIpKeH"
      },
      "outputs": [
        {
          "data": {
            "text/plain": [
              "City                                Riyadh\n",
              "Datetime               2023-12-15 08:46:30\n",
              "TrafficIndexLive                       138\n",
              "JamsCount                             1359\n",
              "JamsDelay                           9989.4\n",
              "JamsLength                          1173.9\n",
              "TrafficIndexWeekAgo                    138\n",
              "TravelTimeHistoric              120.140593\n",
              "TravelTimeLive                  134.484139\n",
              "dtype: object"
            ]
          },
          "execution_count": 9,
          "metadata": {},
          "output_type": "execute_result"
        }
      ],
      "source": [
        "df.max()"
      ]
    },
    {
      "cell_type": "code",
      "execution_count": 10,
      "metadata": {},
      "outputs": [
        {
          "data": {
            "text/plain": [
              "City                              Abudhabi\n",
              "Datetime               2022-12-16 11:01:30\n",
              "TrafficIndexLive                         0\n",
              "JamsCount                                0\n",
              "JamsDelay                              0.0\n",
              "JamsLength                             0.0\n",
              "TrafficIndexWeekAgo                      0\n",
              "TravelTimeHistoric               49.381346\n",
              "TravelTimeLive                   46.723235\n",
              "dtype: object"
            ]
          },
          "execution_count": 10,
          "metadata": {},
          "output_type": "execute_result"
        }
      ],
      "source": [
        "df.min()"
      ]
    },
    {
      "cell_type": "code",
      "execution_count": 13,
      "metadata": {},
      "outputs": [
        {
          "data": {
            "text/plain": [
              "<bound method DataFrame.mean of            City             Datetime  TrafficIndexLive  JamsCount  JamsDelay  \\\n",
              "0      Abudhabi  2023-07-07 08:01:30                 6          4       15.6   \n",
              "1      Abudhabi  2023-07-07 09:01:30                 7          7       20.5   \n",
              "2      Abudhabi  2023-07-07 10:46:30                 7          8       25.0   \n",
              "3      Abudhabi  2023-07-07 11:16:30                 8         11       30.6   \n",
              "4      Abudhabi  2023-07-07 12:01:30                 8         20       62.1   \n",
              "...         ...                  ...               ...        ...        ...   \n",
              "66634    Riyadh  2023-12-15 03:01:30                 8         33      127.8   \n",
              "66635    Riyadh  2023-12-15 04:31:30                 6         27       87.0   \n",
              "66636    Riyadh  2023-12-15 05:01:30                 3         17       49.8   \n",
              "66637    Riyadh  2023-12-15 06:01:30                 0         16       61.3   \n",
              "66638    Riyadh  2023-12-15 07:01:30                 0         15       39.5   \n",
              "\n",
              "       JamsLength  TrafficIndexWeekAgo  TravelTimeHistoric  TravelTimeLive  \n",
              "0             0.7                   13           59.611918       54.803617  \n",
              "1             1.7                    8           60.221387       56.118629  \n",
              "2             2.8                    6           59.161978       55.518834  \n",
              "3             5.5                    6           59.738138       56.413917  \n",
              "4             6.5                    5           58.958314       56.059246  \n",
              "...           ...                  ...                 ...             ...  \n",
              "66634        20.4                    8           63.926569       63.245473  \n",
              "66635        13.8                    5           59.182641       60.012955  \n",
              "66636         6.7                    1           57.746816       57.561438  \n",
              "66637         4.3                    0           56.535277       55.463218  \n",
              "66638         5.2                    0           56.126417       54.886055  \n",
              "\n",
              "[66639 rows x 9 columns]>"
            ]
          },
          "execution_count": 13,
          "metadata": {},
          "output_type": "execute_result"
        }
      ],
      "source": [
        "df.mean"
      ]
    },
    {
      "cell_type": "code",
      "execution_count": 14,
      "metadata": {},
      "outputs": [
        {
          "data": {
            "text/plain": [
              "City                   66639\n",
              "Datetime               66639\n",
              "TrafficIndexLive       66639\n",
              "JamsCount              66639\n",
              "JamsDelay              66639\n",
              "JamsLength             66639\n",
              "TrafficIndexWeekAgo    66639\n",
              "TravelTimeHistoric     62772\n",
              "TravelTimeLive         62772\n",
              "dtype: int64"
            ]
          },
          "execution_count": 14,
          "metadata": {},
          "output_type": "execute_result"
        }
      ],
      "source": [
        "df.count()"
      ]
    },
    {
      "cell_type": "markdown",
      "metadata": {
        "id": "4k-cDvL8oflR"
      },
      "source": [
        "### Visualize the distribution of key variables (e.g., Traffic_Index, Date)."
      ]
    },
    {
      "cell_type": "code",
      "execution_count": 21,
      "metadata": {
        "id": "V7I156lepKv1"
      },
      "outputs": [
        {
          "data": {
            "text/plain": [
              "<Axes: xlabel='TrafficIndexLive'>"
            ]
          },
          "execution_count": 21,
          "metadata": {},
          "output_type": "execute_result"
        },
        {
          "data": {
            "image/png": "[encoded data removed]",
            "text/plain": [
              "<Figure size 640x480 with 1 Axes>"
            ]
          },
          "metadata": {},
          "output_type": "display_data"
        }
      ],
      "source": [
        "df['TrafficIndexLive'].value_counts().sort_index().plot.line()"
      ]
    },
    {
      "cell_type": "markdown",
      "metadata": {
        "id": "Lz4jQtNBoih-"
      },
      "source": [
        "### Explore relationships between variables (e.g., Traffic_Index vs. Weather_Condition).\n"
      ]
    },
    {
      "cell_type": "code",
      "execution_count": 32,
      "metadata": {
        "id": "2Txh8eI1pLJQ"
      },
      "outputs": [
        {
          "data": {
            "text/plain": [
              "<Axes: xlabel='TrafficIndexLive', ylabel='JamsCount'>"
            ]
          },
          "execution_count": 32,
          "metadata": {},
          "output_type": "execute_result"
        },
        {
          "data": {
            "image/png": "[encoded data removed]",
            "text/plain": [
              "<Figure size 640x480 with 1 Axes>"
            ]
          },
          "metadata": {},
          "output_type": "display_data"
        }
      ],
      "source": [
        "df.plot.scatter(x='TrafficIndexLive', y='JamsCount')"
      ]
    },
    {
      "cell_type": "code",
      "execution_count": 34,
      "metadata": {},
      "outputs": [
        {
          "name": "stdout",
          "output_type": "stream",
          "text": [
            "Requirement already satisfied: seaborn in c:\\users\\khuza\\appdata\\local\\programs\\python\\python311\\lib\\site-packages (0.13.2)\n",
            "Requirement already satisfied: numpy!=1.24.0,>=1.20 in c:\\users\\khuza\\appdata\\local\\programs\\python\\python311\\lib\\site-packages (from seaborn) (1.26.4)\n",
            "Requirement already satisfied: pandas>=1.2 in c:\\users\\khuza\\appdata\\local\\programs\\python\\python311\\lib\\site-packages (from seaborn) (2.2.2)\n",
            "Requirement already satisfied: matplotlib!=3.6.1,>=3.4 in c:\\users\\khuza\\appdata\\local\\programs\\python\\python311\\lib\\site-packages (from seaborn) (3.9.0)\n",
            "Requirement already satisfied: contourpy>=1.0.1 in c:\\users\\khuza\\appdata\\local\\programs\\python\\python311\\lib\\site-packages (from matplotlib!=3.6.1,>=3.4->seaborn) (1.2.1)\n",
            "Requirement already satisfied: cycler>=0.10 in c:\\users\\khuza\\appdata\\local\\programs\\python\\python311\\lib\\site-packages (from matplotlib!=3.6.1,>=3.4->seaborn) (0.12.1)\n",
            "Requirement already satisfied: fonttools>=4.22.0 in c:\\users\\khuza\\appdata\\local\\programs\\python\\python311\\lib\\site-packages (from matplotlib!=3.6.1,>=3.4->seaborn) (4.52.1)\n",
            "Requirement already satisfied: kiwisolver>=1.3.1 in c:\\users\\khuza\\appdata\\local\\programs\\python\\python311\\lib\\site-packages (from matplotlib!=3.6.1,>=3.4->seaborn) (1.4.5)\n",
            "Requirement already satisfied: packaging>=20.0 in c:\\users\\khuza\\appdata\\roaming\\python\\python311\\site-packages (from matplotlib!=3.6.1,>=3.4->seaborn) (24.0)\n",
            "Requirement already satisfied: pillow>=8 in c:\\users\\khuza\\appdata\\local\\programs\\python\\python311\\lib\\site-packages (from matplotlib!=3.6.1,>=3.4->seaborn) (10.3.0)\n",
            "Requirement already satisfied: pyparsing>=2.3.1 in c:\\users\\khuza\\appdata\\local\\programs\\python\\python311\\lib\\site-packages (from matplotlib!=3.6.1,>=3.4->seaborn) (3.1.2)\n",
            "Requirement already satisfied: python-dateutil>=2.7 in c:\\users\\khuza\\appdata\\roaming\\python\\python311\\site-packages (from matplotlib!=3.6.1,>=3.4->seaborn) (2.9.0.post0)\n",
            "Requirement already satisfied: pytz>=2020.1 in c:\\users\\khuza\\appdata\\local\\programs\\python\\python311\\lib\\site-packages (from pandas>=1.2->seaborn) (2024.1)\n",
            "Requirement already satisfied: tzdata>=2022.7 in c:\\users\\khuza\\appdata\\local\\programs\\python\\python311\\lib\\site-packages (from pandas>=1.2->seaborn) (2024.1)\n",
            "Requirement already satisfied: six>=1.5 in c:\\users\\khuza\\appdata\\roaming\\python\\python311\\site-packages (from python-dateutil>=2.7->matplotlib!=3.6.1,>=3.4->seaborn) (1.16.0)\n",
            "Note: you may need to restart the kernel to use updated packages.\n"
          ]
        },
        {
          "name": "stderr",
          "output_type": "stream",
          "text": [
            "\n",
            "[notice] A new release of pip is available: 24.0 -> 24.1.2\n",
            "[notice] To update, run: python.exe -m pip install --upgrade pip\n"
          ]
        }
      ],
      "source": [
        "pip install seaborn"
      ]
    },
    {
      "cell_type": "code",
      "execution_count": 35,
      "metadata": {},
      "outputs": [],
      "source": [
        "import seaborn as sns"
      ]
    },
    {
      "cell_type": "markdown",
      "metadata": {
        "id": "mZiDh1gronRD"
      },
      "source": [
        "## 2. Data Visualization"
      ]
    },
    {
      "cell_type": "markdown",
      "metadata": {
        "id": "WL4wC3iSqWuO"
      },
      "source": [
        "* Ensure the visualizations are clear and informative."
      ]
    },
    {
      "cell_type": "markdown",
      "metadata": {
        "id": "VfUFvWxUopoh"
      },
      "source": [
        "### Create visualizations to illustrate the findings from the EDA.\n"
      ]
    },
    {
      "cell_type": "code",
      "execution_count": null,
      "metadata": {
        "id": "KAlacPHypMVh"
      },
      "outputs": [],
      "source": [
        "\n"
      ]
    },
    {
      "cell_type": "markdown",
      "metadata": {
        "id": "G4KCbzg4osSW"
      },
      "source": [
        "### Use appropriate plots such as histograms, bar charts, pie charts, scatter plots, and heatmaps."
      ]
    },
    {
      "cell_type": "code",
      "execution_count": 30,
      "metadata": {
        "id": "IKyAKt5apMp4"
      },
      "outputs": [
        {
          "data": {
            "text/plain": [
              "<Axes: ylabel='Frequency'>"
            ]
          },
          "execution_count": 30,
          "metadata": {},
          "output_type": "execute_result"
        },
        {
          "data": {
            "image/png": "[encoded data removed]",
            "text/plain": [
              "<Figure size 640x480 with 1 Axes>"
            ]
          },
          "metadata": {},
          "output_type": "display_data"
        }
      ],
      "source": [
        "df['JamsCount'].plot.hist()"
      ]
    },
    {
      "cell_type": "markdown",
      "metadata": {
        "id": "breh9YkZoxiT"
      },
      "source": [
        "## 3. Insights and Conclusions"
      ]
    },
    {
      "cell_type": "markdown",
      "metadata": {
        "id": "a9akovSwo5l2"
      },
      "source": [
        "* <h3>Summarize the key insights gained from the data analysis.<h3/>\n",
        "* <h3>Draw conclusions based on the patterns observed in the data.<h3/>"
      ]
    }
  ],
  "metadata": {
    "colab": {
      "provenance": []
    },
    "kernelspec": {
      "display_name": "Python 3",
      "name": "python3"
    },
    "language_info": {
      "codemirror_mode": {
        "name": "ipython",
        "version": 3
      },
      "file_extension": ".py",
      "mimetype": "text/x-python",
      "name": "python",
      "nbconvert_exporter": "python",
      "pygments_lexer": "ipython3",
      "version": "3.11.9"
    }
  },
  "nbformat": 4,
  "nbformat_minor": 0
}
