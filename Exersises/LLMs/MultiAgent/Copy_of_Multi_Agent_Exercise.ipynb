{
  "cells": [
    {
      "cell_type": "markdown",
      "id": "2fb9ed4d",
      "metadata": {
        "id": "2fb9ed4d"
      },
      "source": [
        "\n",
        "# Exercise: Building a Multi-Agent System\n",
        "\n",
        "In this exercise, you will create a simple multi-agent system where two agents collaborate to accomplish a common goal. The first agent will conduct research on a topic, and the second agent will summarize the research.\n",
        "\n",
        "Follow the steps below to complete the exercise.\n",
        "\n",
        "---\n",
        "### Step 1: Install the Required Libraries\n",
        "\n",
        "Make sure the necessary libraries are installed using the following command:\n"
      ]
    },
    {
      "cell_type": "code",
      "execution_count": null,
      "id": "0352a049",
      "metadata": {
        "id": "0352a049"
      },
      "outputs": [],
      "source": [
        "#!pip install crewai langchain langchain-community langchain_groq"
      ]
    },
    {
      "cell_type": "markdown",
      "id": "4680062e",
      "metadata": {
        "id": "4680062e"
      },
      "source": [
        "\n",
        "---\n",
        "### Step 2: Import the Necessary Libraries\n",
        "\n",
        "You will need to import the relevant libraries to create and manage your agents. Fill in the missing parts of the code below:\n"
      ]
    },
    {
      "cell_type": "code",
      "execution_count": null,
      "id": "2620b4a8",
      "metadata": {
        "id": "2620b4a8"
      },
      "outputs": [],
      "source": [
        "import os\n",
        "import requests\n",
        "from bs4 import BeautifulSoup\n",
        "import nltk\n",
        "from transformers import pipeline\n",
        "from crewai import Agent\n",
        "\n",
        "# Save the API key\n",
        "os.environ[\"GROQ_API_KEY\"] = \"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\""
      ]
    },
    {
      "cell_type": "markdown",
      "id": "fc736f9e",
      "metadata": {
        "id": "fc736f9e"
      },
      "source": [
        "\n",
        "---\n",
        "### Step 3: Create Agents\n",
        "\n",
        "Now, define the two agents. **Agent 1** will handle research, and **Agent 2** will summarize the research.\n",
        "\n",
        "Fill in the code below to create the agents:\n"
      ]
    },
    {
      "cell_type": "code",
      "execution_count": null,
      "id": "35b5dd49",
      "metadata": {
        "id": "35b5dd49"
      },
      "outputs": [],
      "source": [
        "from langchain_groq import ChatGroq\n",
        "\n",
        "# Create the LLM for handle research\n",
        "llm = ChatGroq(\n",
        "    model=\"groq/llama-3.1-70b-versatile\",\n",
        "    temperature=0.7,  # Adjusts creativity\n",
        "    max_tokens=None,\n",
        "    timeout=None,\n",
        "    max_retries=2\n",
        ")\n",
        "\n",
        "# Create another instance for summarize the research\n",
        "function_calling_llm = ChatGroq(\n",
        "    model=\"groq/llama-3.1-70b-versatile\",\n",
        "    temperature=0.7,\n",
        "    max_tokens=None,\n",
        "    timeout=None,\n",
        "    max_retries=2\n",
        ")\n"
      ]
    },
    {
      "cell_type": "code",
      "source": [
        "from crewai import Agent\n",
        "\n",
        "# Create the primary research agent\n",
        "research_agent = Agent(\n",
        "    llm=llm,\n",
        "    function_calling_llm=function_calling_llm,\n",
        "    role=\"Research Agent\",\n",
        "    goal=\"Conduct detailed research about the Kingdom of Saudi Arabia (KSA).\",\n",
        "    backstory=\"You are an experienced researcher with expertise in Middle Eastern studies, focusing on cultural, economic, and geopolitical aspects of KSA.\",\n",
        "    allow_delegation=False,\n",
        "    verbose=1,  # Enables detailed logging\n",
        ")\n"
      ],
      "metadata": {
        "id": "8Q3VaDjZsm3W"
      },
      "id": "8Q3VaDjZsm3W",
      "execution_count": null,
      "outputs": []
    },
    {
      "cell_type": "code",
      "source": [
        "from crewai import Task\n",
        "\n",
        "task1 = Task(\n",
        "    description=\"Write a professional Research about KSA.\",\n",
        "    expected_output=\"A clear and concise Research with a subject line, greeting, body, and signature.\",\n",
        "    output_file=\"Research.txt\",\n",
        "    agent=research_agent,\n",
        ")"
      ],
      "metadata": {
        "id": "r_6qgVNEvLxE"
      },
      "id": "r_6qgVNEvLxE",
      "execution_count": null,
      "outputs": []
    },
    {
      "cell_type": "code",
      "source": [
        "summarize_research = Agent(\n",
        "    llm=llm,\n",
        "    function_calling_llm=function_calling_llm,\n",
        "    role=\"summarize research\",\n",
        "    goal=\"Edit the research and summarize research\",\n",
        "    backstory=\"You are a seasoned editor with expertise in summarize research.\",\n",
        "    allow_delegation=False,\n",
        "    verbose=1,\n",
        ")"
      ],
      "metadata": {
        "id": "TopEP1LHuhhi"
      },
      "id": "TopEP1LHuhhi",
      "execution_count": null,
      "outputs": []
    },
    {
      "cell_type": "code",
      "source": [
        "\n",
        "task2 = Task(\n",
        "    description=\"Review , edit and summarize the research.\",\n",
        "    expected_output=\"A polished version of summarize the research that improves upon clarity .\",\n",
        "    output_file=\"Research.txt\",\n",
        "    agent=summarize_research,\n",
        "    input_file=\"summarize.txt\",  # Use the output of the first task as input\n",
        ")"
      ],
      "metadata": {
        "id": "hGfK4ZhkvjRF"
      },
      "id": "hGfK4ZhkvjRF",
      "execution_count": null,
      "outputs": []
    },
    {
      "cell_type": "markdown",
      "id": "48ad534f",
      "metadata": {
        "id": "48ad534f"
      },
      "source": [
        "\n",
        "---\n",
        "### Step 4: Execute the Multi-Agent System\n",
        "\n",
        "Finally, run the system to allow the agents to collaborate and complete their tasks.\n"
      ]
    },
    {
      "cell_type": "code",
      "execution_count": null,
      "id": "96ece49c",
      "metadata": {
        "id": "96ece49c",
        "outputId": "4754e43a-f4da-48f7-eb50-cd255cc83e97",
        "colab": {
          "base_uri": "https://localhost:8080/"
        }
      },
      "outputs": [
        {
          "output_type": "stream",
          "name": "stdout",
          "text": [
            "\u001b[1m\u001b[95m# Agent:\u001b[00m \u001b[1m\u001b[92mResearch Agent\u001b[00m\n",
            "\u001b[95m## Task:\u001b[00m \u001b[92mWrite a professional Research about KSA.\u001b[00m\n",
            "\n",
            "\n",
            "\u001b[1m\u001b[95m# Agent:\u001b[00m \u001b[1m\u001b[92mResearch Agent\u001b[00m\n",
            "\u001b[95m## Final Answer:\u001b[00m \u001b[92m\n",
            "Subject: An In-Depth Research on the Kingdom of Saudi Arabia (KSA)\n",
            "\n",
            "Dear [Recipient],\n",
            "\n",
            "I am pleased to present this comprehensive research paper on the Kingdom of Saudi Arabia (KSA), a country with a rich history, diverse culture, and significant economic influence in the Middle East. This research aims to provide an in-depth analysis of KSA's cultural, economic, and geopolitical aspects, highlighting its strengths, challenges, and future prospects.\n",
            "\n",
            "The Kingdom of Saudi Arabia is the largest Arab state, covering an area of approximately 2.15 million square kilometers. It is bounded by the Red Sea to the west, the Persian Gulf to the east, and shares borders with several countries, including Jordan, Iraq, Kuwait, Oman, the United Arab Emirates, and Yemen. The capital city, Riyadh, is home to over 7 million people and is the country's economic, cultural, and administrative hub.\n",
            "\n",
            "Cultural Aspect:\n",
            "\n",
            "Saudi Arabia has a unique and rich cultural heritage, shaped by its history, Islamic faith, and Bedouin traditions. The country is the birthplace of Islam, and the two holy cities of Mecca and Medina are considered the most sacred sites in the Islamic world. The Saudi culture is known for its hospitality, generosity, and respect for tradition. The country has made significant efforts to preserve its cultural heritage, including the restoration of historical sites, museums, and traditional festivals.\n",
            "\n",
            "Economic Aspect:\n",
            "\n",
            "The Kingdom of Saudi Arabia has an oil-based economy, with petroleum products accounting for approximately 90% of its export earnings. The country is the world's largest oil producer and has the largest oil reserves. In recent years, the Saudi government has implemented policies aimed at diversifying the economy, including investments in non-oil sectors such as tourism, finance, and renewable energy. The country is also a member of the Gulf Cooperation Council (GCC) and the World Trade Organization (WTO).\n",
            "\n",
            "Geopolitical Aspect:\n",
            "\n",
            "Saudi Arabia plays a significant role in regional and global politics. The country is a key member of the Organization of the Petroleum Exporting Countries (OPEC) and has been involved in several regional conflicts, including the Yemeni Civil War and the Syrian Civil War. The Saudi government has also been a key ally of the United States in the fight against terrorism and extremism.\n",
            "\n",
            "Vision 2030:\n",
            "\n",
            "In 2016, the Saudi government announced its ambitious Vision 2030 plan, aimed at transforming the country's economy and society. The plan focuses on three main pillars: economic diversification, social reform, and environmental sustainability. Key initiatives under Vision 2030 include the development of the Red Sea tourism project, the creation of the Qiddiya entertainment city, and the expansion of renewable energy sources.\n",
            "\n",
            "Conclusion:\n",
            "\n",
            "In conclusion, the Kingdom of Saudi Arabia is a country with a rich history, diverse culture, and significant economic influence in the Middle East. The country faces several challenges, including the need to diversify its economy and address social and environmental issues. However, with its ambitious Vision 2030 plan and commitment to reform, KSA is poised to become a major player in the global economy and a leader in regional politics.\n",
            "\n",
            "Recommendations:\n",
            "\n",
            "Based on this research, I recommend that:\n",
            "\n",
            "* The Saudi government continue to implement policies aimed at diversifying the economy and promoting private sector growth.\n",
            "* The government prioritize investments in education and training programs to develop a skilled workforce.\n",
            "* The country continue to play a key role in regional and global politics, promoting stability and security in the Middle East.\n",
            "\n",
            "Sincerely,\n",
            "[Your Name]\n",
            "Research Agent\n",
            "Middle Eastern Studies Expert\u001b[00m\n",
            "\u001b[1m\u001b[95m# Agent:\u001b[00m \u001b[1m\u001b[92msummarize research\u001b[00m\n",
            "\u001b[95m## Task:\u001b[00m \u001b[92mReview , edit and summarize the research.\u001b[00m\n",
            "\n",
            "\n",
            "\u001b[1m\u001b[95m# Agent:\u001b[00m \u001b[1m\u001b[92msummarize research\u001b[00m\n",
            "\u001b[95m## Final Answer:\u001b[00m \u001b[92m\n",
            "The Kingdom of Saudi Arabia (KSA): An In-Depth Research Analysis\n",
            "\n",
            "Abstract:\n",
            "\n",
            "This comprehensive research paper provides an in-depth analysis of the Kingdom of Saudi Arabia's cultural, economic, and geopolitical aspects. The study highlights the country's strengths, challenges, and future prospects, with a focus on its rich history, diverse culture, and significant economic influence in the Middle East.\n",
            "\n",
            "Introduction:\n",
            "\n",
            "The Kingdom of Saudi Arabia is the largest Arab state, covering an area of approximately 2.15 million square kilometers. Bounded by the Red Sea to the west, the Persian Gulf to the east, and sharing borders with several countries, including Jordan, Iraq, Kuwait, Oman, the United Arab Emirates, and Yemen, KSA is a country of immense strategic importance. The capital city, Riyadh, is home to over 7 million people and serves as the country's economic, cultural, and administrative hub.\n",
            "\n",
            "Cultural Aspect:\n",
            "\n",
            "Saudi Arabia's unique cultural heritage is shaped by its history, Islamic faith, and Bedouin traditions. As the birthplace of Islam, the country is home to the two holy cities of Mecca and Medina, considered the most sacred sites in the Islamic world. The Saudi culture is renowned for its hospitality, generosity, and respect for tradition. The government has made significant efforts to preserve its cultural heritage, including the restoration of historical sites, museums, and traditional festivals.\n",
            "\n",
            "The kingdom's cultural landscape is characterized by a blend of traditional and modern elements. The country's rich cultural heritage is reflected in its architecture, art, literature, and music. The Saudi government has established several cultural institutions, including the Saudi Ministry of Culture and Information, the King Abdulaziz Library, and the National Museum of Saudi Arabia, to promote and preserve the country's cultural traditions.\n",
            "\n",
            "Economic Aspect:\n",
            "\n",
            "The Kingdom of Saudi Arabia has an oil-based economy, with petroleum products accounting for approximately 90% of its export earnings. As the world's largest oil producer and holder of the largest oil reserves, KSA plays a significant role in the global energy market. However, in recent years, the Saudi government has implemented policies aimed at diversifying the economy, including investments in non-oil sectors such as tourism, finance, and renewable energy.\n",
            "\n",
            "The country is a member of the Gulf Cooperation Council (GCC) and the World Trade Organization (WTO), facilitating its integration into the global economy. The Saudi government has also established the Saudi Arabian General Investment Authority (SAGIA) to promote foreign investment and develop the private sector.\n",
            "\n",
            "Geopolitical Aspect:\n",
            "\n",
            "Saudi Arabia plays a significant role in regional and global politics. As a key member of the Organization of the Petroleum Exporting Countries (OPEC), the country has a major influence on the global energy market. KSA has also been involved in several regional conflicts, including the Yemeni Civil War and the Syrian Civil War. The Saudi government has been a key ally of the United States in the fight against terrorism and extremism.\n",
            "\n",
            "The country's strategic location, bordering the Red Sea and the Persian Gulf, makes it a critical player in regional security dynamics. The Saudi government has established several regional and international partnerships, including the GCC and the Arab League, to promote stability and security in the region.\n",
            "\n",
            "Vision 2030:\n",
            "\n",
            "In 2016, the Saudi government announced its ambitious Vision 2030 plan, aimed at transforming the country's economy and society. The plan focuses on three main pillars: economic diversification, social reform, and environmental sustainability. Key initiatives under Vision 2030 include the development of the Red Sea tourism project, the creation of the Qiddiya entertainment city, and the expansion of renewable energy sources.\n",
            "\n",
            "The plan aims to reduce the country's dependence on oil exports, increase the share of non-oil exports, and develop a diversified economy. Vision 2030 also seeks to promote social reform, including the development of education and healthcare systems, and the empowerment of women.\n",
            "\n",
            "Conclusion:\n",
            "\n",
            "In conclusion, the Kingdom of Saudi Arabia is a country with a rich history, diverse culture, and significant economic influence in the Middle East. While the country faces several challenges, including the need to diversify its economy and address social and environmental issues, its ambitious Vision 2030 plan and commitment to reform position KSA for a major role in the global economy and regional politics.\n",
            "\n",
            "Recommendations:\n",
            "\n",
            "Based on this research, the following recommendations are proposed:\n",
            "\n",
            "1. The Saudi government should continue to implement policies aimed at diversifying the economy and promoting private sector growth.\n",
            "2. The government should prioritize investments in education and training programs to develop a skilled workforce.\n",
            "3. The country should continue to play a key role in regional and global politics, promoting stability and security in the Middle East.\n",
            "4. The Saudi government should strengthen its partnerships with regional and international organizations to promote economic cooperation and security in the region.\n",
            "\n",
            "By addressing these challenges and opportunities, the Kingdom of Saudi Arabia can unlock its full potential, promote economic growth, and secure a prosperous future for its people.\n",
            "\n",
            "End of Final Answer.\u001b[00m\n",
            "The Kingdom of Saudi Arabia (KSA): An In-Depth Research Analysis\n",
            "\n",
            "Abstract:\n",
            "\n",
            "This comprehensive research paper provides an in-depth analysis of the Kingdom of Saudi Arabia's cultural, economic, and geopolitical aspects. The study highlights the country's strengths, challenges, and future prospects, with a focus on its rich history, diverse culture, and significant economic influence in the Middle East.\n",
            "\n",
            "Introduction:\n",
            "\n",
            "The Kingdom of Saudi Arabia is the largest Arab state, covering an area of approximately 2.15 million square kilometers. Bounded by the Red Sea to the west, the Persian Gulf to the east, and sharing borders with several countries, including Jordan, Iraq, Kuwait, Oman, the United Arab Emirates, and Yemen, KSA is a country of immense strategic importance. The capital city, Riyadh, is home to over 7 million people and serves as the country's economic, cultural, and administrative hub.\n",
            "\n",
            "Cultural Aspect:\n",
            "\n",
            "Saudi Arabia's unique cultural heritage is shaped by its history, Islamic faith, and Bedouin traditions. As the birthplace of Islam, the country is home to the two holy cities of Mecca and Medina, considered the most sacred sites in the Islamic world. The Saudi culture is renowned for its hospitality, generosity, and respect for tradition. The government has made significant efforts to preserve its cultural heritage, including the restoration of historical sites, museums, and traditional festivals.\n",
            "\n",
            "The kingdom's cultural landscape is characterized by a blend of traditional and modern elements. The country's rich cultural heritage is reflected in its architecture, art, literature, and music. The Saudi government has established several cultural institutions, including the Saudi Ministry of Culture and Information, the King Abdulaziz Library, and the National Museum of Saudi Arabia, to promote and preserve the country's cultural traditions.\n",
            "\n",
            "Economic Aspect:\n",
            "\n",
            "The Kingdom of Saudi Arabia has an oil-based economy, with petroleum products accounting for approximately 90% of its export earnings. As the world's largest oil producer and holder of the largest oil reserves, KSA plays a significant role in the global energy market. However, in recent years, the Saudi government has implemented policies aimed at diversifying the economy, including investments in non-oil sectors such as tourism, finance, and renewable energy.\n",
            "\n",
            "The country is a member of the Gulf Cooperation Council (GCC) and the World Trade Organization (WTO), facilitating its integration into the global economy. The Saudi government has also established the Saudi Arabian General Investment Authority (SAGIA) to promote foreign investment and develop the private sector.\n",
            "\n",
            "Geopolitical Aspect:\n",
            "\n",
            "Saudi Arabia plays a significant role in regional and global politics. As a key member of the Organization of the Petroleum Exporting Countries (OPEC), the country has a major influence on the global energy market. KSA has also been involved in several regional conflicts, including the Yemeni Civil War and the Syrian Civil War. The Saudi government has been a key ally of the United States in the fight against terrorism and extremism.\n",
            "\n",
            "The country's strategic location, bordering the Red Sea and the Persian Gulf, makes it a critical player in regional security dynamics. The Saudi government has established several regional and international partnerships, including the GCC and the Arab League, to promote stability and security in the region.\n",
            "\n",
            "Vision 2030:\n",
            "\n",
            "In 2016, the Saudi government announced its ambitious Vision 2030 plan, aimed at transforming the country's economy and society. The plan focuses on three main pillars: economic diversification, social reform, and environmental sustainability. Key initiatives under Vision 2030 include the development of the Red Sea tourism project, the creation of the Qiddiya entertainment city, and the expansion of renewable energy sources.\n",
            "\n",
            "The plan aims to reduce the country's dependence on oil exports, increase the share of non-oil exports, and develop a diversified economy. Vision 2030 also seeks to promote social reform, including the development of education and healthcare systems, and the empowerment of women.\n",
            "\n",
            "Conclusion:\n",
            "\n",
            "In conclusion, the Kingdom of Saudi Arabia is a country with a rich history, diverse culture, and significant economic influence in the Middle East. While the country faces several challenges, including the need to diversify its economy and address social and environmental issues, its ambitious Vision 2030 plan and commitment to reform position KSA for a major role in the global economy and regional politics.\n",
            "\n",
            "Recommendations:\n",
            "\n",
            "Based on this research, the following recommendations are proposed:\n",
            "\n",
            "1. The Saudi government should continue to implement policies aimed at diversifying the economy and promoting private sector growth.\n",
            "2. The government should prioritize investments in education and training programs to develop a skilled workforce.\n",
            "3. The country should continue to play a key role in regional and global politics, promoting stability and security in the Middle East.\n",
            "4. The Saudi government should strengthen its partnerships with regional and international organizations to promote economic cooperation and security in the region.\n",
            "\n",
            "By addressing these challenges and opportunities, the Kingdom of Saudi Arabia can unlock its full potential, promote economic growth, and secure a prosperous future for its people.\n",
            "\n",
            "End of Final Answer.\n"
          ]
        }
      ],
      "source": [
        "from crewai import Crew\n",
        "\n",
        "# Combine agents and tasks with the crew\n",
        "crew = Crew(agents=[research_agent, summarize_research], tasks=[task1, task2], verbose=1)\n",
        "\n",
        "# Start the task execution\n",
        "print(crew.kickoff())"
      ]
    }
  ],
  "metadata": {
    "language_info": {
      "name": "python"
    },
    "colab": {
      "provenance": []
    },
    "kernelspec": {
      "name": "python3",
      "display_name": "Python 3"
    }
  },
  "nbformat": 4,
  "nbformat_minor": 5
}